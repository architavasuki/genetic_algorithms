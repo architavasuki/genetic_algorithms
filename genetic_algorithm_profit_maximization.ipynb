{
 "cells": [
  {
   "cell_type": "markdown",
   "metadata": {},
   "source": [
    "<b>Problem statement</b> : Maximization of the profit from selling a variety of products, each of which requires different amounts of different materials that have different costs. Each of these functions has a different demand function and sells for a different amount of money. Suppose our factory makes three products : kitchen tables, kitchen chairs and juice carts. \n",
    "\n",
    "\n",
    "The final equation after taking into account all the above given factors is as follows - "
   ]
  },
  {
   "cell_type": "markdown",
   "metadata": {},
   "source": [
    "This tutorial starts by presenting the equation that we are going to implement. The equation is shown below:\n",
    "\n",
    "<b>profit = 2x1 + 7x2 + 4x3</b>\n",
    "\n",
    "The equation has 3 inputs (x1 to x3) and 3 weights (w1 to w3) as shown and inputs values are (x1,x2,x3)=(2,7,4). \n",
    "\n",
    "We are looking to find the parameters (weights) that maximize such equation. The idea of maximizing such equation seems simple. The positive input is to be multiplied by the largest possible positive number and the negative number is to be multiplied by the smallest possible negative number. But the idea we are looking to implement is how to make GA do that its own in order to know that it is better to use positive weight with positive inputs and negative weights with negative inputs. Let us start implementing GA.\n",
    "\n",
    "At first, let us create a list of the 3 inputs and a variable to hold the number of weights as follows:\n"
   ]
  },
  {
   "cell_type": "code",
   "execution_count": 1,
   "metadata": {},
   "outputs": [],
   "source": [
    "# Inputs of the equation.\n",
    "equation_inputs = [2, 7, 4]\n",
    "# Number of the weights we are looking to optimize.\n",
    "num_weights = 3"
   ]
  },
  {
   "cell_type": "markdown",
   "metadata": {},
   "source": [
    "The next step is to define the initial population. Based on the number of weights, each chromosome (solution or individual) in the population will definitely have 3 genes, one gene for each weight. \n",
    "\n",
    "<b>But the question is how many solutions per the population?</b> \n",
    "\n",
    "There is no fixed value for that and we can select the value that fits well with our problem. But we could leave it generic so that it can be changed in the code. Next, we create a variable that holds the number of solutions per population, another to hold the size of the population, and finally, a variable that holds the actual initial population:"
   ]
  },
  {
   "cell_type": "code",
   "execution_count": 2,
   "metadata": {},
   "outputs": [],
   "source": [
    "import numpy\n",
    "sol_per_pop = 8\n",
    "# Defining the population size.\n",
    "num_parents_mating = 3\n",
    "\n",
    "pop_size = (sol_per_pop,num_weights) # The population will have sol_per_pop chromosome where each chromosome has num_weights genes.\n",
    "\n",
    "#Creating the initial population.\n",
    "#we will be adding the constraint that the 0.0 <= new_population array values <=10.0\n",
    "new_population = numpy.random.uniform(low=0.0, high=10.0, size=pop_size)"
   ]
  },
  {
   "cell_type": "markdown",
   "metadata": {},
   "source": [
    "After importing the numpy library, we are able to create the initial population randomly using the numpy.random.uniform function. According to the selected parameters, it will be of shape (8, 3). That is 8 chromosomes and each one has 3 genes, one for each weight. After running this code, the population is as follows"
   ]
  },
  {
   "cell_type": "code",
   "execution_count": 4,
   "metadata": {},
   "outputs": [
    {
     "data": {
      "text/plain": [
       "array([[2.7452646 , 4.90080846, 3.23387098],\n",
       "       [7.65085869, 6.87633123, 0.83154126],\n",
       "       [9.0149917 , 8.91405143, 5.09614088],\n",
       "       [4.68333759, 2.14833628, 5.64061273],\n",
       "       [0.12046639, 7.27095607, 0.91914239],\n",
       "       [8.39788593, 2.75743566, 2.3068118 ],\n",
       "       [5.61240699, 5.30377753, 8.54640961],\n",
       "       [3.52323206, 7.7329688 , 2.40982727]])"
      ]
     },
     "execution_count": 4,
     "metadata": {},
     "output_type": "execute_result"
    }
   ],
   "source": [
    "new_population"
   ]
  },
  {
   "cell_type": "markdown",
   "metadata": {},
   "source": [
    "Note that it is generated randomly and thus it will definitely change when get run again.\n",
    "\n",
    "\n",
    "1. After preparing the population, we are going to select the best individuals within the current population as parents for mating i.e. calculate the fitness function. \n",
    "\n",
    "2. Next is to apply the GA variants (crossover and mutation) to produce the offspring of the next generation, creating the new population by appending both parents and offspring, and repeating such steps for a number of iterations/generations. The next code applies these steps:"
   ]
  },
  {
   "cell_type": "code",
   "execution_count": 7,
   "metadata": {},
   "outputs": [
    {
     "name": "stdout",
     "output_type": "stream",
     "text": [
      "[[42.65403515 36.04109989 59.66371672]\n",
      " [46.8275611  22.02703144 24.40290119]\n",
      " [12.83080148 24.09140271 57.44480771]\n",
      " [19.35539408 68.84883488 19.4204067 ]\n",
      " [ 5.16518642 73.9472893  11.68529705]\n",
      " [ 9.97919237 94.75051329 52.86726316]\n",
      " [47.92500614 97.05862744  4.83144041]\n",
      " [ 4.81355672 65.171241   87.13196167]]\n",
      "Generation :  0\n",
      "Fitness\n",
      "[576.25063644 345.45594702 424.08065281 598.33425917 574.70258618\n",
      " 894.68103044 794.58616599 814.35364715]\n",
      "Best result :  894.6810304376731\n",
      "Parents\n",
      "[[ 9.97919237 94.75051329 52.86726316]\n",
      " [ 4.81355672 65.171241   87.13196167]]\n",
      "Crossover\n",
      "[[ 9.97919237 65.171241   87.13196167]\n",
      " [ 4.81355672 94.75051329 52.86726316]\n",
      " [ 9.97919237 65.171241   87.13196167]\n",
      " [ 4.81355672 94.75051329 52.86726316]\n",
      " [ 9.97919237 65.171241   87.13196167]\n",
      " [ 4.81355672 94.75051329 52.86726316]]\n",
      "Mutation\n",
      "[[10.27567291 65.32486962 87.13196167]\n",
      " [ 4.64759571 95.00154012 52.86726316]\n",
      " [ 9.5699655  64.17556734 87.13196167]\n",
      " [ 4.39414433 93.89818672 52.86726316]\n",
      " [10.7625225  64.61233259 87.13196167]\n",
      " [ 3.98567221 94.52740111 52.86726316]]\n",
      "Generation :  1\n",
      "Fitness\n",
      "[894.68103044 814.35364715 826.35327983 885.7750249  816.89674909\n",
      " 877.54464835 822.33921984 881.13220481]\n",
      "Best result :  894.6810304376731\n",
      "Parents\n",
      "[[ 9.97919237 94.75051329 52.86726316]\n",
      " [ 4.64759571 95.00154012 52.86726316]]\n",
      "Crossover\n",
      "[[ 9.97919237 95.00154012 52.86726316]\n",
      " [ 4.64759571 94.75051329 52.86726316]\n",
      " [ 9.97919237 95.00154012 52.86726316]\n",
      " [ 4.64759571 94.75051329 52.86726316]\n",
      " [ 9.97919237 95.00154012 52.86726316]\n",
      " [ 4.64759571 94.75051329 52.86726316]]\n",
      "Mutation\n",
      "[[ 9.05446173 94.5564136  52.86726316]\n",
      " [ 4.1549991  95.67133248 52.86726316]\n",
      " [10.06026885 95.98923246 52.86726316]\n",
      " [ 5.62921943 95.19153356 52.86726316]\n",
      " [10.7979187  95.70235306 52.86726316]\n",
      " [ 5.14707966 95.5814701  52.86726316]]\n",
      "Generation :  2\n",
      "Fitness\n",
      "[894.68103044 885.7750249  891.47287129 889.47837824 903.51421757\n",
      " 889.06822645 902.98136149 890.83350269]\n",
      "Best result :  903.5142175684323\n",
      "Parents\n",
      "[[10.06026885 95.98923246 52.86726316]\n",
      " [10.7979187  95.70235306 52.86726316]]\n",
      "Crossover\n",
      "[[10.06026885 95.70235306 52.86726316]\n",
      " [10.7979187  95.98923246 52.86726316]\n",
      " [10.06026885 95.70235306 52.86726316]\n",
      " [10.7979187  95.98923246 52.86726316]\n",
      " [10.06026885 95.70235306 52.86726316]\n",
      " [10.7979187  95.98923246 52.86726316]]\n",
      "Mutation\n",
      "[[ 9.91464592 95.87414025 52.86726316]\n",
      " [11.78925417 96.50258499 52.86726316]\n",
      " [ 9.26705035 96.41016196 52.86726316]\n",
      " [11.00429626 95.83410655 52.86726316]\n",
      " [10.53781739 95.32683783 52.86726316]\n",
      " [11.48630893 95.19199019 52.86726316]]\n",
      "Generation :  3\n",
      "Fitness\n",
      "[903.51421757 902.98136149 902.41732623 910.56565593 904.87428708\n",
      " 904.31639101 899.83255225 900.78560183]\n",
      "Best result :  910.5656559341447\n",
      "Parents\n",
      "[[11.78925417 96.50258499 52.86726316]\n",
      " [ 9.26705035 96.41016196 52.86726316]]\n",
      "Crossover\n",
      "[[11.78925417 96.41016196 52.86726316]\n",
      " [ 9.26705035 96.50258499 52.86726316]\n",
      " [11.78925417 96.41016196 52.86726316]\n",
      " [ 9.26705035 96.50258499 52.86726316]\n",
      " [11.78925417 96.41016196 52.86726316]\n",
      " [ 9.26705035 96.50258499 52.86726316]]\n",
      "Mutation\n",
      "[[11.77476107 95.64548063 52.86726316]\n",
      " [10.25176668 97.15485118 52.86726316]\n",
      " [10.88415708 96.233562   52.86726316]\n",
      " [ 8.51497697 96.47701666 52.86726316]\n",
      " [12.04950123 96.32094749 52.86726316]\n",
      " [ 9.09457564 96.52184846 52.86726316]]\n",
      "Generation :  4\n",
      "Fitness\n",
      "[910.56565593 904.87428708 904.53693924 912.05654429 906.8723008\n",
      " 903.83812325 909.81468755 905.31114317]\n",
      "Best result :  912.0565442921755\n",
      "Parents\n",
      "[[10.25176668 97.15485118 52.86726316]\n",
      " [11.78925417 96.50258499 52.86726316]]\n",
      "Crossover\n",
      "[[10.25176668 96.50258499 52.86726316]\n",
      " [11.78925417 97.15485118 52.86726316]\n",
      " [10.25176668 96.50258499 52.86726316]\n",
      " [11.78925417 97.15485118 52.86726316]\n",
      " [10.25176668 96.50258499 52.86726316]\n",
      " [11.78925417 97.15485118 52.86726316]]\n",
      "Mutation\n",
      "[[ 9.6621294  95.66854226 52.86726316]\n",
      " [10.86755845 96.33266245 52.86726316]\n",
      " [10.82770085 96.89362638 52.86726316]\n",
      " [12.7319308  97.51082785 52.86726316]\n",
      " [ 9.92215952 96.61525429 52.86726316]\n",
      " [12.78609375 96.40845579 52.86726316]]\n"
     ]
    }
   ],
   "source": [
    "import numpy\n",
    "import ga_modules\n",
    "\n",
    "\"\"\"\n",
    "The y=target is to maximize this equation ASAP:\n",
    "    y = w1x1+w2x2+w3x3+w4x4+w5x5+6wx6\n",
    "    where (x1,x2,x3,x4,x5,x6)=(4,-2,3.5,5,-11,-4.7)\n",
    "    What are the best values for the 6 weights w1 to w6?\n",
    "    We are going to use the genetic algorithm for the best possible values after a number of generations.\n",
    "\"\"\"\n",
    "\n",
    "# Inputs of the equation.\n",
    "equation_inputs = [2, 7, 4]\n",
    "\n",
    "# Number of the weights we are looking to optimize.\n",
    "num_weights = len(equation_inputs)\n",
    "\n",
    "\"\"\"\n",
    "Genetic algorithm parameters:\n",
    "    Mating pool size\n",
    "    Population size\n",
    "\"\"\"\n",
    "sol_per_pop = 8\n",
    "num_parents_mating = 2\n",
    "\n",
    "# Defining the population size.\n",
    "pop_size = (sol_per_pop,num_weights) # The population will have sol_per_pop chromosome where each chromosome has num_weights genes.\n",
    "#Creating the initial population.\n",
    "new_population = numpy.random.uniform(low=0.0, high=100.0, size=pop_size)\n",
    "print(new_population)\n",
    "\n",
    "\"\"\"\n",
    "new_population[0, :] = [2.4,  0.7, 8, -2,   5,   1.1]\n",
    "new_population[1, :] = [-0.4, 2.7, 5, -1,   7,   0.1]\n",
    "new_population[2, :] = [-1,   2,   2, -3,   2,   0.9]\n",
    "new_population[3, :] = [4,    7,   12, 6.1, 1.4, -4]\n",
    "new_population[4, :] = [3.1,  4,   0,  2.4, 4.8,  0]\n",
    "new_population[5, :] = [-2,   3,   -7, 6,   3,    3]\n",
    "\"\"\"\n",
    "\n",
    "best_outputs = []\n",
    "num_generations = 5\n",
    "for generation in range(num_generations):\n",
    "    print(\"Generation : \", generation)\n",
    "    # Measuring the fitness of each chromosome in the population.\n",
    "    fitness = ga_modules.cal_pop_fitness(equation_inputs, new_population)\n",
    "    print(\"Fitness\")\n",
    "    print(fitness)\n",
    "\n",
    "    best_outputs.append(numpy.max(numpy.sum(new_population*equation_inputs, axis=1)))\n",
    "    # The best result in the current iteration.\n",
    "    print(\"Best result : \", numpy.max(numpy.sum(new_population*equation_inputs, axis=1)))\n",
    "    \n",
    "    # Selecting the best parents in the population for mating.\n",
    "    parents = ga_modules.select_mating_pool(new_population, fitness, \n",
    "                                      num_parents_mating)\n",
    "    print(\"Parents\")\n",
    "    print(parents)\n",
    "\n",
    "    # Generating next generation using crossover.\n",
    "    offspring_crossover = ga_modules.crossover(parents,\n",
    "                                       offspring_size=(pop_size[0]-parents.shape[0], num_weights))\n",
    "    print(\"Crossover\")\n",
    "    print(offspring_crossover)\n",
    "\n",
    "    # Adding some variations to the offspring using mutation.\n",
    "    offspring_mutation = ga_modules.mutation(offspring_crossover, num_mutations=2)\n",
    "    print(\"Mutation\")\n",
    "    print(offspring_mutation)\n",
    "\n",
    "    # Creating the new population based on the parents and offspring.\n",
    "    new_population[0:parents.shape[0], :] = parents\n",
    "    new_population[parents.shape[0]:, :] = offspring_mutation\n"
   ]
  },
  {
   "cell_type": "code",
   "execution_count": 8,
   "metadata": {},
   "outputs": [
    {
     "name": "stdout",
     "output_type": "stream",
     "text": [
      "Best solution :  [[[12.7319308  97.51082785 52.86726316]]]\n",
      "Best solution fitness :  [919.50870923]\n"
     ]
    }
   ],
   "source": [
    "# Getting the best solution after iterating finishing all generations.\n",
    "#At first, the fitness is calculated for each solution in the final generation.\n",
    "fitness = ga_modules.cal_pop_fitness(equation_inputs, new_population)\n",
    "# Then return the index of that solution corresponding to the best fitness.\n",
    "best_match_idx = numpy.where(fitness == numpy.max(fitness))\n",
    "\n",
    "print(\"Best solution : \", new_population[best_match_idx, :])\n",
    "print(\"Best solution fitness : \", fitness[best_match_idx])"
   ]
  },
  {
   "cell_type": "code",
   "execution_count": 9,
   "metadata": {},
   "outputs": [
    {
     "data": {
      "image/png": "[encoded data removed]",
      "text/plain": [
       "<Figure size 432x288 with 1 Axes>"
      ]
     },
     "metadata": {
      "needs_background": "light"
     },
     "output_type": "display_data"
    }
   ],
   "source": [
    "import matplotlib.pyplot\n",
    "matplotlib.pyplot.plot(best_outputs)\n",
    "matplotlib.pyplot.xlabel(\"Iteration\")\n",
    "matplotlib.pyplot.ylabel(\"Fitness\")\n",
    "matplotlib.pyplot.show()"
   ]
  },
  {
   "cell_type": "code",
   "execution_count": null,
   "metadata": {},
   "outputs": [],
   "source": []
  }
 ],
 "metadata": {
  "kernelspec": {
   "display_name": "Python 3",
   "language": "python",
   "name": "python3"
  },
  "language_info": {
   "codemirror_mode": {
    "name": "ipython",
    "version": 3
   },
   "file_extension": ".py",
   "mimetype": "text/x-python",
   "name": "python",
   "nbconvert_exporter": "python",
   "pygments_lexer": "ipython3",
   "version": "3.8.3"
  }
 },
 "nbformat": 4,
 "nbformat_minor": 4
}
